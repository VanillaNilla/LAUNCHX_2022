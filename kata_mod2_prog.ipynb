{
 "cells": [
  {
   "cell_type": "markdown",
   "metadata": {},
   "source": [
    "# ENTORNO VIRTUAL\n",
    "\n",
    "Para esta actividad, se realiza la creación de un entorno virtual desde una consola de windows (en su version 10).\n",
    "\n",
    "Para lo cual primero se debe seleccionar el folder deseado donde se desee instalar el entorno:"
   ]
  },
  {
   "cell_type": "code",
   "execution_count": null,
   "metadata": {},
   "outputs": [],
   "source": [
    "py -m venv env "
   ]
  },
  {
   "cell_type": "markdown",
   "metadata": {},
   "source": [
    "Para el caso de la version de windows que se esta utilizando se esta empleando el comando \"py\" y la ayuda del comando \"venv\".\n",
    "\n",
    "El anterior comando crea un entorno virtual llamado \"env\". \n",
    "\n",
    "Sin embargo para activar el entorno virtual en cuestión es necesario hacerlo a través del archivo \"activate\". "
   ]
  },
  {
   "cell_type": "code",
   "execution_count": null,
   "metadata": {},
   "outputs": [],
   "source": [
    "env/Scripts/activate"
   ]
  },
  {
   "cell_type": "markdown",
   "metadata": {},
   "source": [
    "*NOTA: Para desactivar el entorno basta con ejecutar el \"deactivate\".\n",
    "\n",
    "Para ver las librerias existentes en el entorno se utiliza el comando \"pip freeze\". "
   ]
  },
  {
   "cell_type": "markdown",
   "metadata": {},
   "source": [
    "### PIP INSTALL\n",
    "\n",
    "Para instalar librerias se hace uso del comando \"pip install\", en la siguiente linea se muestra el comando con el ejemplo de instalación de la libreria \"dateutil\":"
   ]
  },
  {
   "cell_type": "code",
   "execution_count": null,
   "metadata": {},
   "outputs": [],
   "source": [
    "pip install python-dateutil"
   ]
  }
 ],
 "metadata": {
  "language_info": {
   "name": "python"
  },
  "orig_nbformat": 4
 },
 "nbformat": 4,
 "nbformat_minor": 2
}
