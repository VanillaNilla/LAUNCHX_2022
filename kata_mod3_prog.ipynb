{
 "cells": [
  {
   "cell_type": "markdown",
   "metadata": {},
   "source": [
    "#  Usar lógica booleana\n",
    "Explora cómo usar la lógica booleana en Python para crear expresiones complejas que aplican lógica condicional.\n",
    "\n",
    "## EJERCICIO 1"
   ]
  },
  {
   "cell_type": "markdown",
   "metadata": {},
   "source": [
    "*** Para este ejercicio, escribirás una lógica condicional que imprima una advertencia si un asteroide se acerca a la Tierra demasiado rápido. La velocidad del asteroide varía dependiendo de lo cerca que esté del sol, y cualquier velocidad superior a 25 kilómetros por segundo (km/s) merece una advertencia.\n",
    "\n",
    "Un asteroide se acerca, y viaja a una velocidad de 49 km/s."
   ]
  },
  {
   "cell_type": "code",
   "execution_count": 11,
   "metadata": {},
   "outputs": [
    {
     "name": "stdout",
     "output_type": "stream",
     "text": [
      "El asteroide esta acercandose demasiado rápido!!\n"
     ]
    }
   ],
   "source": [
    "\n",
    "asteroide_velocidad = 49 #km/s\n",
    "if asteroide_velocidad > 25:\n",
    "    print(\"El asteroide esta acercandose demasiado rápido!!\")\n",
    "else:\n",
    "    print(\"Todo esta bien :D\")\n"
   ]
  },
  {
   "cell_type": "markdown",
   "metadata": {},
   "source": [
    "## EJERCICIO 2\n",
    "*** Si un asteroide entra en la atmósfera de la Tierra a una velocidad mayor o igual a 20 km/s, a veces produce un rayo de luz que se puede ver desde la Tierra. Escribe la lógica condicional que usa declaraciones if, else, y elif para alertar a las personas de todo el mundo que deben buscar un asteroide en el cielo. ¡Hay uno que se dirige a la tierra ahora a una velocidad de 19 km/s!"
   ]
  },
  {
   "cell_type": "code",
   "execution_count": 13,
   "metadata": {},
   "outputs": [
    {
     "name": "stdout",
     "output_type": "stream",
     "text": [
      "Asteroide produce rayo!!\n",
      "El asteroide esta acercandose demasiado rápido!! Mira al cielo con precaucion\n"
     ]
    }
   ],
   "source": [
    "asteroide_velocidad = 26\n",
    "\n",
    "if asteroide_velocidad == 20:\n",
    "    print(\"Asteroide produce rayo!! Mira al cielo\")\n",
    "elif asteroide_velocidad > 20:\n",
    "    print(\"Asteroide produce rayo!!\")\n",
    "    if asteroide_velocidad > 25:\n",
    "        print(\"El asteroide esta acercandose demasiado rápido!! Mira al cielo con precaucion\")\n",
    "    else:\n",
    "        print(\"El asteroide es seguro!!! Mira al cielo\")\n",
    "else:\n",
    "    print(\"No se produce ningun rayo :(\")   \n"
   ]
  },
  {
   "cell_type": "markdown",
   "metadata": {},
   "source": [
    "## EJERCICIO 3\n",
    "\n",
    "En este ejercicio, aprenderás información más matizada sobre cuándo los asteroides representan un peligro para la Tierra, y utilizarás esa información para mejorar nuestro sistema de advertencia. Aquí está la nueva información que necesitas saber:\n",
    "\n",
    "*Los asteroides de menos de 25 metros en su dimensión más grande probablemente se quemarán a medida que entren en la atmósfera de la Tierra.\n",
    "\n",
    "Si una pieza de un asteroide que es más grande que 25 metros pero más pequeña que 1000 metros golpeara la Tierra, causaría mucho daño.\n",
    "También discutimos en el ejercicio anterior que:\n",
    "\n",
    "La velocidad del asteroide varía en función de lo cerca que esté del sol, y cualquier velocidad superior a 25 kilómetros por segundo (km/s) merece una advertencia.\n",
    "Si un asteroide entra en la atmósfera de la Tierra a una velocidad mayor o igual a 20 km/s, a veces produce un rayo de luz que se puede ver desde la Tierra.\n",
    "Usando toda esta información, escribe un programa que emita la advertencia o información correcta a la gente de la Tierra, según la velocidad y el tamaño de un asteroide. Utiliza instrucciones if, else, y elif, así como los operadores and y or."
   ]
  },
  {
   "cell_type": "code",
   "execution_count": 30,
   "metadata": {},
   "outputs": [
    {
     "name": "stdout",
     "output_type": "stream",
     "text": [
      "El asteroide es seguro :)!!\n",
      "Asteroide produce rayo!! Mira al cielo\n"
     ]
    }
   ],
   "source": [
    "# datos de asteroide:\n",
    "asteroide_velocidad = 20\n",
    "asteroide_dimension = 20\n",
    "\n",
    "# sistema de advertencia\n",
    "if ((asteroide_dimension > 25) and (asteroide_dimension < 1000)) or (asteroide_velocidad > 25):\n",
    "    if asteroide_velocidad > 25:\n",
    "        print (\"Asteroide viene en exceso de velocidad!!!!\")\n",
    "    else:\n",
    "        print (\"Velocidad promedio, asteroide excede tamaño\")\n",
    "\n",
    "    print(\"EVACUAR DE INMEDIATO, ASTEROIDE PELIGROSO\")\n",
    "\n",
    "elif asteroide_dimension <= 25 or asteroide_velocidad < 25:\n",
    "    print(\"El asteroide es seguro :)!!\")\n",
    "    if asteroide_velocidad >= 20:\n",
    "        print(\"Asteroide produce rayo!! Mira al cielo\")\n",
    "\n",
    "else:\n",
    "    print(\"No se produce ningun rayo :(\")  "
   ]
  }
 ],
 "metadata": {
  "interpreter": {
   "hash": "00e29889a80445b97b9be28b7f519edd513365f28abc99ceff6a05c4bb43b034"
  },
  "kernelspec": {
   "display_name": "Python 3.10.0 64-bit",
   "name": "python3"
  },
  "language_info": {
   "codemirror_mode": {
    "name": "ipython",
    "version": 3
   },
   "file_extension": ".py",
   "mimetype": "text/x-python",
   "name": "python",
   "nbconvert_exporter": "python",
   "pygments_lexer": "ipython3",
   "version": "3.10.0"
  },
  "orig_nbformat": 4
 },
 "nbformat": 4,
 "nbformat_minor": 2
}
