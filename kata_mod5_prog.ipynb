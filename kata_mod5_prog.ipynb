{
 "cells": [
  {
   "cell_type": "markdown",
   "metadata": {},
   "source": [
    "# Usar operaciones matemáticas\n",
    "## Ejercicio1 - Utilizar operadores aritméticos\n",
    "\n",
    "Python proporciona operadores aritméticos comunes para que puedas realizar operaciones matemáticas en tu código. Estos incluyen las cuatro operaciones principales de suma, resta, multiplicación y división.\n",
    "\n",
    "Exploremos cómo podemos crear un programa que pueda calcular la distancia entre dos planetas. Comenzaremos usando dos distancias de planetas: Tierra (149.597.870 km) y Júpiter (778.547.200 km).\n",
    "\n",
    "Nota: Quita las comas cuando uses los valores."
   ]
  },
  {
   "cell_type": "code",
   "execution_count": 7,
   "metadata": {},
   "outputs": [],
   "source": [
    "# Crear variables para almacenar las dos distancias\n",
    "# ¡Asegúrate de quitar las comas!\n",
    "distance_earth = 149597870\n",
    "distance_jupiter = 778547200"
   ]
  },
  {
   "cell_type": "markdown",
   "metadata": {},
   "source": [
    "### Realizar la operación\n",
    "Con los valores obtenidos, es el momento de añadir el código para realizar la operación. Restarás el primer planeta del segundo para determinar la distancia en kilómetros. A continuación, puedes convertir la distancia del kilómetro en millas multiplicándola por 0.621."
   ]
  },
  {
   "cell_type": "code",
   "execution_count": 13,
   "metadata": {},
   "outputs": [
    {
     "name": "stdout",
     "output_type": "stream",
     "text": [
      "628949330 km\n",
      "390577534 miles\n"
     ]
    }
   ],
   "source": [
    "# Calcular la distancia entre planetas\n",
    "\n",
    "distance_between = distance_jupiter - distance_earth\n",
    "distance_between_miles = distance_between * 0.621\n",
    "print(str(distance_between) + \" km\")\n",
    "print(str(int(round(distance_between_miles,0))) + \" miles\")"
   ]
  },
  {
   "cell_type": "markdown",
   "metadata": {},
   "source": [
    "## Ejercicio 2: convierte cadenas en números y usa valores absolutos\n",
    "\n",
    "Crear una aplicación para trabajar con números y entrada de usuario\n",
    "Con frecuencia, deberás convertir los valores de cadena en números para realizar correctamente diferentes operaciones o determinar el valor absoluto de un número.\n",
    "\n",
    "Para crear nuestra aplicación, queremos leer la distancia del sol para dos planetas, y luego mostrar la distancia entre los planetas. Haremos esto usando input para leer los valores, int para convertir a entero y luego abs para convertir el resultado en su valor absoluto.\n",
    "\n",
    "### Lee los valores\n",
    "Usando input, agrega el código para leer la distancia del sol para cada planeta, considerando 2 planetas."
   ]
  },
  {
   "cell_type": "code",
   "execution_count": 21,
   "metadata": {},
   "outputs": [
    {
     "name": "stdout",
     "output_type": "stream",
     "text": [
      "Distancia planeta 1: 57900000\n",
      "Distancia planeta 2: 149600000\n"
     ]
    }
   ],
   "source": [
    "distance_planet1 = input(\"¿Cual es la distancia del primer planeta respecto al sol?\")\n",
    "distance_planet2 = input(\"¿Cual es la distancia del segundo planeta respecto al sol?\")\n",
    "\n",
    "print(\"Distancia planeta 1: \" + str(distance_planet1))\n",
    "print(\"Distancia planeta 2: \" + str(distance_planet2))"
   ]
  },
  {
   "cell_type": "code",
   "execution_count": 22,
   "metadata": {},
   "outputs": [
    {
     "name": "stdout",
     "output_type": "stream",
     "text": [
      "tipo de dato de planeta 1: <class 'int'>\n",
      "tipo de dato de planeta 2:  <class 'int'>\n"
     ]
    }
   ],
   "source": [
    "# Se convierte a enteros las entradas:\n",
    "distance_planet1 = int(distance_planet1)\n",
    "distance_planet2 = int(distance_planet2)\n",
    "\n",
    "print(\"tipo de dato de planeta 1: \" + str(type(distance_planet1)))\n",
    "print(\"tipo de dato de planeta 2:  \" + str(type(distance_planet2)))"
   ]
  },
  {
   "cell_type": "markdown",
   "metadata": {},
   "source": [
    "### Realizar el cálculo y convertir a valor absoluto\n",
    "\n",
    "Con los valores almacenados como números, ahora puedes agregar el código para realizar el cálculo, restando el primer planeta del segundo. Debido a que el segundo planeta podría ser un número mayor, usarás abs para convertirlo a un valor absoluto. También agregarás el código para mostrar el resultado en millas multiplicando la distancia del kilómetro por 0.621"
   ]
  },
  {
   "cell_type": "code",
   "execution_count": 26,
   "metadata": {},
   "outputs": [
    {
     "name": "stdout",
     "output_type": "stream",
     "text": [
      "La distancia entre los planetas es de 91700000 km\n",
      "La distancia entre los planetas es de 56945700 millas\n"
     ]
    }
   ],
   "source": [
    "distance_between_planets = abs(distance_planet1 - distance_planet2)\n",
    "\n",
    "print(\"La distancia entre los planetas es de \" + str(distance_between_planets) + \" km\")\n",
    "print(\"La distancia entre los planetas es de \" + str(int(distance_between_planets*0.621)) + \" millas\")"
   ]
  }
 ],
 "metadata": {
  "interpreter": {
   "hash": "00e29889a80445b97b9be28b7f519edd513365f28abc99ceff6a05c4bb43b034"
  },
  "kernelspec": {
   "display_name": "Python 3.10.0 64-bit",
   "name": "python3"
  },
  "language_info": {
   "codemirror_mode": {
    "name": "ipython",
    "version": 3
   },
   "file_extension": ".py",
   "mimetype": "text/x-python",
   "name": "python",
   "nbconvert_exporter": "python",
   "pygments_lexer": "ipython3",
   "version": "3.10.0"
  },
  "orig_nbformat": 4
 },
 "nbformat": 4,
 "nbformat_minor": 2
}
