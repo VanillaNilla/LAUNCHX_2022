{
 "cells": [
  {
   "cell_type": "markdown",
   "metadata": {},
   "source": [
    "# Funciones\n",
    "\n",
    "## Ejercicio: Uso de funciones en Python\n",
    "\n",
    "## Ejercicio 1: Trabajar con argumentos en funciones\n",
    "Los argumentos requeridos en las funciones se utilizan cuando las funciones necesitan que esos argumentos funcionen correctamente. En este ejercicio, construirás un informe de combustible que requiere información de varias ubicaciones de combustible en todo el cohete.\n",
    "\n",
    "TIP Dedica unos minutos para tratar de encontrar una solución. Luego desplázate hacia abajo hasta la parte inferior para ver si has logrado compilar el programa de acuerdo con las especificaciones\n",
    "\n",
    "Comienza por crear una función que necesite tres lecturas de combustible y devuelva un informe:"
   ]
  },
  {
   "cell_type": "code",
   "execution_count": 7,
   "metadata": {},
   "outputs": [],
   "source": [
    "# Función para leer 3 tanques de combustible y muestre el promedio\n",
    "def informe(tanque1,tanque2,tanque3):\n",
    "    promedio = (tanque1 + tanque2 + tanque3) / 3\n",
    "    \n",
    "    return \"INFORME DE MISION \\n TANQUE 1: \"+ str(tanque1) + \"\\n TANQUE 2: \" + str(tanque2) + \"\\n TANQUE 3: \" + str(tanque3) + \"\\n PROMEDIO: \" + str(promedio)\n"
   ]
  },
  {
   "cell_type": "markdown",
   "metadata": {},
   "source": [
    "Ahora que hemos definido la función de informes, vamos a comprobarlo. Para esta misión, los tanques no están llenos:"
   ]
  },
  {
   "cell_type": "code",
   "execution_count": 8,
   "metadata": {},
   "outputs": [
    {
     "name": "stdout",
     "output_type": "stream",
     "text": [
      "INFORME DE MISION \n",
      " TANQUE 1: 13\n",
      " TANQUE 2: 16.7\n",
      " TANQUE 3: 9\n",
      " PROMEDIO: 12.9\n"
     ]
    }
   ],
   "source": [
    "# Llamamos a la función que genera el reporte print(funcion(tanque1, tanque2, tanque3))\n",
    "print(informe(13,16.7,9))"
   ]
  },
  {
   "cell_type": "markdown",
   "metadata": {},
   "source": [
    "En lugar de simplemente crear el informe, la función también está calculando el promedio. Mejora la legibilidad extrayendo el cálculo promedio de la función en una nueva función para que el promedio se pueda hacer de forma independiente:"
   ]
  },
  {
   "cell_type": "code",
   "execution_count": 59,
   "metadata": {},
   "outputs": [
    {
     "name": "stdout",
     "output_type": "stream",
     "text": [
      "14.0\n"
     ]
    }
   ],
   "source": [
    "# Función promedio \n",
    "def promedio(*tanquex):\n",
    "    promedio = sum(tanquex) / len(tanquex)\n",
    "\n",
    "    return promedio\n",
    "\n",
    "print(promedio(13,14,15))"
   ]
  },
  {
   "cell_type": "markdown",
   "metadata": {},
   "source": [
    "Ahora actualiza la función de informes para llamando a la nueva función del promedio:"
   ]
  },
  {
   "cell_type": "code",
   "execution_count": 62,
   "metadata": {},
   "outputs": [
    {
     "name": "stdout",
     "output_type": "stream",
     "text": [
      "INFORME DE MISION \n",
      " TANQUE 1: 13\n",
      " TANQUE 2: 16.7\n",
      " TANQUE 3: 9\n",
      " PROMEDIO: 12.9\n"
     ]
    }
   ],
   "source": [
    "# Actualiza la función\n",
    "def informe(tanque1,tanque2,tanque3):\n",
    "    return \"INFORME DE MISION \\n TANQUE 1: \"+ str(tanque1) + \"\\n TANQUE 2: \" + str(tanque2) + \"\\n TANQUE 3: \" + str(tanque3) + \"\\n PROMEDIO: \" + str(promedio(tanque1,tanque2,tanque3))\n",
    "\n",
    "\n",
    "print(informe(13,16.7,9))"
   ]
  },
  {
   "cell_type": "markdown",
   "metadata": {},
   "source": [
    "# Ejercicio 2: Trabajo con argumentos de palabra clave\n",
    "## Ejercicio : Trabajar con argumentos de palabras clave en funciones\n",
    "\n",
    "En este ejercicio, construirás un informe de cohete que requiere varias piezas de información, como el tiempo hasta el destino, el combustible a la izquierda y el nombre del destino. Comienza por crear una función que creará un informe preciso de la misión:"
   ]
  },
  {
   "cell_type": "code",
   "execution_count": 19,
   "metadata": {},
   "outputs": [
    {
     "name": "stdout",
     "output_type": "stream",
     "text": [
      "\n",
      "    INFORME DE MISION\n",
      "    ---------------------------------\n",
      "    | Destino de viaje: Marte\n",
      "    | Tiempo de aterrizaje: 31 minutos\n",
      "    | Capacidad total de combustible: 55 gal.\n",
      "    \n"
     ]
    }
   ],
   "source": [
    "# Función con un informe preciso de la misión. Considera hora de prelanzamiento, tiempo de vuelo, destino, tanque externo y tanque interno\n",
    "def informe_completo(prelanzamiento, tiempo_vuelo, destino, tanque_externo, tanque_interno):\n",
    "    return f\"\"\"\n",
    "    INFORME DE MISION\n",
    "    ---------------------------------\n",
    "    | Destino de viaje: {destino}\n",
    "    | Tiempo de aterrizaje: {prelanzamiento + tiempo_vuelo} minutos\n",
    "    | Capacidad total de combustible: {tanque_externo + tanque_interno} gal.\n",
    "    \"\"\"\n",
    "\n",
    "print(informe_completo(15,16,\"Marte\",15,40))"
   ]
  },
  {
   "cell_type": "markdown",
   "metadata": {},
   "source": [
    "La función es problemática porque no se puede adaptar para minutos adicionales o tanques adicionales de combustible. Hazlo más flexible permitiendo cualquier número de pasos basados en el tiempo y cualquier número de tanques. En lugar de usar *args y **kwargs, aprovecha el hecho de que puedes usar cualquier nombre que desees. Asegurate que la función sea más legible mediante el uso de nombres de variables que están asociados con las entradas, como *minutes y **fuel_reservoirs:"
   ]
  },
  {
   "cell_type": "code",
   "execution_count": 29,
   "metadata": {},
   "outputs": [
    {
     "name": "stdout",
     "output_type": "stream",
     "text": [
      "\n",
      "    INFORME DE MISION\n",
      "    ---------------------------------\n",
      "    | Destino de viaje: Moon\n",
      "    | Tiempo de aterrizaje: 31 minutos\n",
      "    | Capacidad total de combustible: 55 gal.\n",
      "    \n"
     ]
    }
   ],
   "source": [
    "# Escribe tu nueva función de reporte considerando lo anterior\n",
    "def informe_completo_2(destino, *tiempo_min, **tanques_disponibles):\n",
    "    return f\"\"\"\n",
    "    INFORME DE MISION\n",
    "    ---------------------------------\n",
    "    | Destino de viaje: {destino}\n",
    "    | Tiempo de aterrizaje: {sum(tiempo_min)} minutos\n",
    "    | Capacidad total de combustible: {sum(tanques_disponibles.values())} gal.\n",
    "    \"\"\"\n",
    "\n",
    "print(informe_completo_2(\"Marte\", 16, 15, tanque_externo=15, tanque_interno=40))"
   ]
  },
  {
   "cell_type": "markdown",
   "metadata": {},
   "source": [
    "Ahora actualiza la función de informes para llamando a la nueva función del promedio:"
   ]
  },
  {
   "cell_type": "code",
   "execution_count": 65,
   "metadata": {},
   "outputs": [
    {
     "name": "stdout",
     "output_type": "stream",
     "text": [
      "\n",
      "    INFORME DE MISION\n",
      "    ---------------------------------\n",
      "    | Destino de viaje: Marte\n",
      "    | Tiempo de aterrizaje: 31 minutos\n",
      "    | Capacidad total de combustible: 55 gal.\n",
      "    \n",
      "    \n"
     ]
    }
   ],
   "source": [
    "# Escribe tu nueva función de reporte considerando lo anterior\n",
    "def informe_completo_2(destino, *tiempo_min, **tanques_disponibles):\n",
    "    #num_tanques = len(tanques_disponibles)\n",
    "\n",
    "    return f\"\"\"\n",
    "    INFORME DE MISION\n",
    "    ---------------------------------\n",
    "    | Destino de viaje: {destino}\n",
    "    | Tiempo de aterrizaje: {sum(tiempo_min)} minutos\n",
    "    | Capacidad total de combustible: {sum(tanques_disponibles.values())} gal.\n",
    "    \n",
    "    \"\"\"\n",
    "\n",
    "print(informe_completo_2(\"Marte\", 16, 15, tanque_externo=15, tanque_interno=40))"
   ]
  },
  {
   "cell_type": "markdown",
   "metadata": {},
   "source": [
    "Debido a que el combustible que queda en los tanques es específico de cada tanque, actualiza la función para usar el nombre de cada tanque en el informe:"
   ]
  },
  {
   "cell_type": "code",
   "execution_count": 72,
   "metadata": {},
   "outputs": [
    {
     "name": "stdout",
     "output_type": "stream",
     "text": [
      "\n",
      "    INFORME DE MISION\n",
      "    ---------------------------------\n",
      "    | Destino de viaje: Marte\n",
      "    | Tiempo de aterrizaje: 31 minutos\n",
      "    | Capacidad total de combustible: 55 gal.\n",
      "    \n",
      "    | ANALISIS DE TANQUES\n",
      "    \n",
      "    | - Tanque tanque_externo: 15 gal. disponibles\n",
      "    | - Tanque tanque_interno: 40 gal. disponibles\n"
     ]
    }
   ],
   "source": [
    "# Escribe tu nueva función\n",
    "# Escribe tu nueva función de reporte considerando lo anterior\n",
    "def informe_completo_2(destino, *tiempo_min, **tanques_disponibles):\n",
    "    #num_tanques = len(tanques_disponibles)\n",
    "\n",
    "    reporte= f\"\"\"\n",
    "    INFORME DE MISION\n",
    "    ---------------------------------\n",
    "    | Destino de viaje: {destino}\n",
    "    | Tiempo de aterrizaje: {sum(tiempo_min)} minutos\n",
    "    | Capacidad total de combustible: {sum(tanques_disponibles.values())} gal.\n",
    "    \n",
    "    | ANALISIS DE TANQUES\n",
    "    \"\"\"\n",
    "\n",
    "    for tanque, unidades in tanques_disponibles.items():\n",
    "        analisis = f\"\"\"\\n    | - Tanque {tanque}: {unidades} gal. disponibles\"\"\"\n",
    "        reporte= reporte + analisis\n",
    "\n",
    "    return reporte\n",
    "        \n",
    "\n",
    "\n",
    "print(informe_completo_2(\"Marte\", 16, 15, tanque_externo=15, tanque_interno=40))"
   ]
  }
 ],
 "metadata": {
  "interpreter": {
   "hash": "00e29889a80445b97b9be28b7f519edd513365f28abc99ceff6a05c4bb43b034"
  },
  "kernelspec": {
   "display_name": "Python 3.10.0 64-bit",
   "name": "python3"
  },
  "language_info": {
   "codemirror_mode": {
    "name": "ipython",
    "version": 3
   },
   "file_extension": ".py",
   "mimetype": "text/x-python",
   "name": "python",
   "nbconvert_exporter": "python",
   "pygments_lexer": "ipython3",
   "version": "3.10.0"
  },
  "orig_nbformat": 4
 },
 "nbformat": 4,
 "nbformat_minor": 2
}
